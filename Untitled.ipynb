{
 "cells": [
  {
   "cell_type": "code",
   "execution_count": 4,
   "metadata": {
    "collapsed": true
   },
   "outputs": [],
   "source": [
    "import matplotlib.pyplot as plt\n",
    "import numpy as np"
   ]
  },
  {
   "cell_type": "code",
   "execution_count": 13,
   "metadata": {
    "collapsed": false
   },
   "outputs": [],
   "source": [
    "boatWidth = 8.47\n",
    "boatLength = 15.00\n",
    "bowWidth = 1.0\n",
    "trampOffset = 6.0\n",
    "bowTip = .2\n",
    "\n",
    "\n",
    "sr = [boatWidth / 2.0, 0.0]\n",
    "sl = [-boatWidth / 2.0, 0.0]\n",
    "brr = [boatWidth / 2.0, boatLength]\n",
    "bru = [boatWidth / 2.0 - bowWidth / 2.0, boatLength + bowTip]\n",
    "brl = [boatWidth / 2.0 - bowWidth, boatLength]\n",
    "trampr = [boatWidth / 2.0 - bowWidth, boatLength - trampOffset]\n",
    "trampl = [-(boatWidth / 2.0 - bowWidth), boatLength - trampOffset]\n",
    "bll = [-boatWidth / 2.0, boatLength]\n",
    "blu = [-(boatWidth / 2.0 - bowWidth / 2.0), boatLength + bowTip]\n",
    "blr = [-(boatWidth / 2.0 - bowWidth), boatLength]\n",
    "\n",
    "\n",
    "boatOrigin = [sr, brr, bru, brl, trampr, trampl, blr, blu, bll, sl]"
   ]
  },
  {
   "cell_type": "code",
   "execution_count": 14,
   "metadata": {
    "collapsed": false
   },
   "outputs": [
    {
     "data": {
      "image/png": "[encoded data removed]",
      "text/plain": [
       "<matplotlib.figure.Figure at 0x106bbaed0>"
      ]
     },
     "metadata": {},
     "output_type": "display_data"
    }
   ],
   "source": [
    "plt.figure()\n",
    "ax = plt.axes(xlim=(-10,10), ylim=(-10,20))\n",
    "b1 = plt.Polygon(boatOrigin)\n",
    "ax.add_patch(b1)\n",
    "plt.show()\n",
    "plt.close()"
   ]
  },
  {
   "cell_type": "code",
   "execution_count": null,
   "metadata": {
    "collapsed": true
   },
   "outputs": [],
   "source": [
    "def rotate(theta, pt):\n",
    "    \"\"\"\n",
    "    rotates a point accross the origin by theta radians\n",
    "\n",
    "    params:\n",
    "    theta = radians (float)\n",
    "    pt = [x,y] (floats)\n",
    "\n",
    "    returns: [new_x, new_y]\n",
    "    \"\"\"\n",
    "    x, y = pt\n",
    "    cos = np.cos(theta)\n",
    "    sin = np.sin(theta)\n",
    "    return [x * cos - y * sin, x * sin + y * cos]\n",
    "\n",
    "\n",
    "def translate(pt, vec):\n",
    "    \"\"\"\n",
    "    translates a point by vector\n",
    "\n",
    "    params:\n",
    "    pt = [x,y]\n",
    "    vec = [x,y]\n",
    "\n",
    "    returns: [new_x, new_y]\n",
    "    \"\"\"\n",
    "    pt[0] += vec[0]\n",
    "    pt[1] += vec[1]\n",
    "    return pt\n",
    "\n",
    "\n",
    "def drawBoat(pos, theta):\n",
    "    \"\"\"\n",
    "    Manipulates boatOrigin points to set them at a given position and heading\n",
    "\n",
    "    params:\n",
    "    pos = (x,y)\n",
    "    theta = angle heading (in Radians)\n",
    "\n",
    "    returns: list of 5 boat corners at position pos with heading = theta\n",
    "    \"\"\"\n",
    "    theta = (theta - np.pi / 2 % (2.0 * np.pi))\n",
    "    pts = [translate(rotate(theta, x), pos) for x in boatOrigin]\n",
    "    return pts"
   ]
  }
 ],
 "metadata": {
  "anaconda-cloud": {},
  "kernelspec": {
   "display_name": "Python [default]",
   "language": "python",
   "name": "python2"
  },
  "language_info": {
   "codemirror_mode": {
    "name": "ipython",
    "version": 2
   },
   "file_extension": ".py",
   "mimetype": "text/x-python",
   "name": "python",
   "nbconvert_exporter": "python",
   "pygments_lexer": "ipython2",
   "version": "2.7.12"
  }
 },
 "nbformat": 4,
 "nbformat_minor": 1
}
