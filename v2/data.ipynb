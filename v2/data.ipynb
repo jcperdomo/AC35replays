{
 "cells": [
  {
   "cell_type": "code",
   "execution_count": 1,
   "metadata": {
    "collapsed": false
   },
   "outputs": [],
   "source": [
    "import pandas as pd\n",
    "import os\n",
    "import re\n",
    "import numpy as np\n",
    "from bokeh.models import ColumnDataSource\n",
    "from data_access import MARKS, get_race_data"
   ]
  },
  {
   "cell_type": "code",
   "execution_count": 2,
   "metadata": {
    "collapsed": false
   },
   "outputs": [
    {
     "data": {
      "text/plain": [
       "u'0.12.5'"
      ]
     },
     "execution_count": 2,
     "metadata": {},
     "output_type": "execute_result"
    }
   ],
   "source": [
    "import bokeh\n",
    "bokeh.__version__"
   ]
  },
  {
   "cell_type": "code",
   "execution_count": 3,
   "metadata": {
    "collapsed": true
   },
   "outputs": [],
   "source": [
    "AC_schedule = {\"170527\": [[\"USA\", \"FRA\"], [\"SWE\", \"JPN\"], [\"NZL\", \"FRA\"], [\"SWE\", \"GBR\"], [\"USA\", \"NZL\"], [\"JPN\", \"GBR\"],],\n",
    "     \"170528\": [[\"SWE\", \"FRA\"], [\"USA\", \"GBR\"], [\"NZL\", \"JPN\"], [\"USA\", \"SWE\"], [\"NZL\", \"GBR\"], [\"USA\", \"JPN\"],],\n",
    "     \"170529\": [[\"FRA\", \"GBR\"], [\"SWE\", \"NZL\"], [\"JPN\", \"FRA\"]],\n",
    "     \"170530\": [[\"SWE\", \"NZL\"], [\"USA\", \"FRA\"], [\"SWE\", \"GBR\"]]}"
   ]
  },
  {
   "cell_type": "code",
   "execution_count": 4,
   "metadata": {
    "collapsed": false
   },
   "outputs": [],
   "source": [
    "def get_recording_times(date):\n",
    "    \n",
    "    # eventually will add functionality to check if the relevant files have been downloaded\n",
    "    # right now just assume that they have indeed been downloaded\n",
    "    \n",
    "    file_names = os.listdir(os.getcwd()+\"/{}/csv\".format(date))\n",
    "    s = set([])\n",
    "    for i in l:\n",
    "        s.add(re.search('^[0-9]+', i).group())\n",
    "    return sorted(list(s))    \n",
    "\n",
    "def get_competitors(date, race_number):\n",
    "    return AC_schedule[date][race_number-1]\n",
    "    "
   ]
  },
  {
   "cell_type": "code",
   "execution_count": 5,
   "metadata": {
    "collapsed": true
   },
   "outputs": [],
   "source": [
    "def get_race_data(date, race_number):\n",
    "    \"\"\"\n",
    "    date = string of the form \"YYMMDD\"\n",
    "    race_number = int, race number within the day\n",
    "    \n",
    "    returns: [marks, boat1, boat2], list of pandas dataframes\n",
    "    \"\"\"\n",
    "    rec_times = get_recording_times(date)\n",
    "    boats = get_competitors(date, race_number)\n",
    "    filetime = rec_times[race_number - 1]\n",
    "    \n",
    "    marks = [\"SL1\", \"SL2\"]\n",
    "    res = []\n",
    "    \n",
    "    script_dir = os.getcwd() \n",
    "\n",
    "    for val in boats + marks:\n",
    "        rel_path = \"/{}/csv/{}-NAV-{}.csv\".format(date, filetime, val)\n",
    "        path = script_dir + rel_path\n",
    "        res.append(pd.read_csv(path))\n",
    "    return res"
   ]
  },
  {
   "cell_type": "code",
   "execution_count": 6,
   "metadata": {
    "collapsed": false
   },
   "outputs": [
    {
     "ename": "NameError",
     "evalue": "global name 'l' is not defined",
     "output_type": "error",
     "traceback": [
      "\u001b[0;31m---------------------------------------------------------------------------\u001b[0m",
      "\u001b[0;31mNameError\u001b[0m                                 Traceback (most recent call last)",
      "\u001b[0;32m<ipython-input-6-9bdbe8f318ee>\u001b[0m in \u001b[0;36m<module>\u001b[0;34m()\u001b[0m\n\u001b[0;32m----> 1\u001b[0;31m \u001b[0mdat\u001b[0m \u001b[0;34m=\u001b[0m \u001b[0mget_race_data\u001b[0m\u001b[0;34m(\u001b[0m\u001b[0;34m\"170530\"\u001b[0m\u001b[0;34m,\u001b[0m \u001b[0;36m1\u001b[0m\u001b[0;34m)\u001b[0m\u001b[0;34m\u001b[0m\u001b[0m\n\u001b[0m",
      "\u001b[0;32m<ipython-input-5-4190f5e78562>\u001b[0m in \u001b[0;36mget_race_data\u001b[0;34m(date, race_number)\u001b[0m\n\u001b[1;32m      6\u001b[0m     \u001b[0mreturns\u001b[0m\u001b[0;34m:\u001b[0m \u001b[0;34m[\u001b[0m\u001b[0mmarks\u001b[0m\u001b[0;34m,\u001b[0m \u001b[0mboat1\u001b[0m\u001b[0;34m,\u001b[0m \u001b[0mboat2\u001b[0m\u001b[0;34m]\u001b[0m\u001b[0;34m,\u001b[0m \u001b[0mlist\u001b[0m \u001b[0mof\u001b[0m \u001b[0mpandas\u001b[0m \u001b[0mdataframes\u001b[0m\u001b[0;34m\u001b[0m\u001b[0m\n\u001b[1;32m      7\u001b[0m     \"\"\"\n\u001b[0;32m----> 8\u001b[0;31m     \u001b[0mrec_times\u001b[0m \u001b[0;34m=\u001b[0m \u001b[0mget_recording_times\u001b[0m\u001b[0;34m(\u001b[0m\u001b[0mdate\u001b[0m\u001b[0;34m)\u001b[0m\u001b[0;34m\u001b[0m\u001b[0m\n\u001b[0m\u001b[1;32m      9\u001b[0m     \u001b[0mboats\u001b[0m \u001b[0;34m=\u001b[0m \u001b[0mget_competitors\u001b[0m\u001b[0;34m(\u001b[0m\u001b[0mdate\u001b[0m\u001b[0;34m,\u001b[0m \u001b[0mrace_number\u001b[0m\u001b[0;34m)\u001b[0m\u001b[0;34m\u001b[0m\u001b[0m\n\u001b[1;32m     10\u001b[0m     \u001b[0mfiletime\u001b[0m \u001b[0;34m=\u001b[0m \u001b[0mrec_times\u001b[0m\u001b[0;34m[\u001b[0m\u001b[0mrace_number\u001b[0m \u001b[0;34m-\u001b[0m \u001b[0;36m1\u001b[0m\u001b[0;34m]\u001b[0m\u001b[0;34m\u001b[0m\u001b[0m\n",
      "\u001b[0;32m<ipython-input-4-9f240ffce063>\u001b[0m in \u001b[0;36mget_recording_times\u001b[0;34m(date)\u001b[0m\n\u001b[1;32m      6\u001b[0m     \u001b[0mfile_names\u001b[0m \u001b[0;34m=\u001b[0m \u001b[0mos\u001b[0m\u001b[0;34m.\u001b[0m\u001b[0mlistdir\u001b[0m\u001b[0;34m(\u001b[0m\u001b[0mos\u001b[0m\u001b[0;34m.\u001b[0m\u001b[0mgetcwd\u001b[0m\u001b[0;34m(\u001b[0m\u001b[0;34m)\u001b[0m\u001b[0;34m+\u001b[0m\u001b[0;34m\"/{}/csv\"\u001b[0m\u001b[0;34m.\u001b[0m\u001b[0mformat\u001b[0m\u001b[0;34m(\u001b[0m\u001b[0mdate\u001b[0m\u001b[0;34m)\u001b[0m\u001b[0;34m)\u001b[0m\u001b[0;34m\u001b[0m\u001b[0m\n\u001b[1;32m      7\u001b[0m     \u001b[0ms\u001b[0m \u001b[0;34m=\u001b[0m \u001b[0mset\u001b[0m\u001b[0;34m(\u001b[0m\u001b[0;34m[\u001b[0m\u001b[0;34m]\u001b[0m\u001b[0;34m)\u001b[0m\u001b[0;34m\u001b[0m\u001b[0m\n\u001b[0;32m----> 8\u001b[0;31m     \u001b[0;32mfor\u001b[0m \u001b[0mi\u001b[0m \u001b[0;32min\u001b[0m \u001b[0ml\u001b[0m\u001b[0;34m:\u001b[0m\u001b[0;34m\u001b[0m\u001b[0m\n\u001b[0m\u001b[1;32m      9\u001b[0m         \u001b[0ms\u001b[0m\u001b[0;34m.\u001b[0m\u001b[0madd\u001b[0m\u001b[0;34m(\u001b[0m\u001b[0mre\u001b[0m\u001b[0;34m.\u001b[0m\u001b[0msearch\u001b[0m\u001b[0;34m(\u001b[0m\u001b[0;34m'^[0-9]+'\u001b[0m\u001b[0;34m,\u001b[0m \u001b[0mi\u001b[0m\u001b[0;34m)\u001b[0m\u001b[0;34m.\u001b[0m\u001b[0mgroup\u001b[0m\u001b[0;34m(\u001b[0m\u001b[0;34m)\u001b[0m\u001b[0;34m)\u001b[0m\u001b[0;34m\u001b[0m\u001b[0m\n\u001b[1;32m     10\u001b[0m     \u001b[0;32mreturn\u001b[0m \u001b[0msorted\u001b[0m\u001b[0;34m(\u001b[0m\u001b[0mlist\u001b[0m\u001b[0;34m(\u001b[0m\u001b[0ms\u001b[0m\u001b[0;34m)\u001b[0m\u001b[0;34m)\u001b[0m\u001b[0;34m\u001b[0m\u001b[0m\n",
      "\u001b[0;31mNameError\u001b[0m: global name 'l' is not defined"
     ]
    }
   ],
   "source": [
    "dat = get_race_data(\"170530\", 1)"
   ]
  },
  {
   "cell_type": "code",
   "execution_count": null,
   "metadata": {
    "collapsed": true
   },
   "outputs": [],
   "source": [
    "import pandas as pd\n",
    "import os\n",
    "import re\n",
    "\n",
    "AC_schedule = {\"170527\": [[\"USA\", \"FRA\"], [\"SWE\", \"JPN\"], [\"NZL\", \"FRA\"], [\"SWE\", \"GBR\"], [\"USA\", \"NZL\"], [\"JPN\", \"GBR\"],],\n",
    "     \"170528\": [[\"SWE\", \"FRA\"], [\"USA\", \"GBR\"], [\"NZL\", \"JPN\"], [\"USA\", \"SWE\"], [\"NZL\", \"GBR\"], [\"USA\", \"JPN\"],],\n",
    "     \"170529\": [[\"FRA\", \"GBR\"], [\"SWE\", \"NZL\"], [\"JPN\", \"FRA\"]],\n",
    "     \"170530\": [[\"SWE\", \"NZL\"], [\"USA\", \"FRA\"], [\"SWE\", \"GBR\"]]}\n",
    "\n",
    "def get_recording_times(date):\n",
    "\n",
    "    # eventually will add functionality to check if the relevant files have been downloaded\n",
    "    # right now just assume that they have indeed been downloaded\n",
    "\n",
    "    file_names = os.listdir(os.getcwd()+\"/{}/csv\".format(date))\n",
    "    s = set([])\n",
    "    for i in file_names:\n",
    "        s.add(re.search('^[0-9]+', i).group())\n",
    "    return sorted(list(s))\n",
    "\n",
    "def get_competitors(date, race_number):\n",
    "    return AC_schedule[date][race_number-1]\n",
    "\n",
    "\n",
    "def get_race_data(date, race_number):\n",
    "    \"\"\"\n",
    "    date = string of the form \"YYMMDD\"\n",
    "    race_number = int, race number within the day\n",
    "\n",
    "    returns: [marks, boat1, boat2], list of pandas dataframes\n",
    "    \"\"\"\n",
    "    rec_times = get_recording_times(date)\n",
    "    boats = get_competitors(date, race_number)\n",
    "    filetime = rec_times[race_number - 1]\n",
    "\n",
    "    marks = [\"SL1\", \"SL2\"]\n",
    "    res = []\n",
    "\n",
    "    script_dir = os.getcwd()\n",
    "    res = {}\n",
    "    for val in boats + marks:\n",
    "        rel_path = \"/{}/csv/{}-NAV-{}.csv\".format(date, filetime, val)\n",
    "        path = script_dir + rel_path\n",
    "        res[val] = pd.read_csv(path)\n",
    "\n",
    "    event_path = script_dir + \"/{}/csv/{}_events.csv\".format(date,filetime)\n",
    "    res[\"events\"] = pd.read_csv(event_path)\n",
    "    \n",
    "    for key in res.keys():\n",
    "        res[key]['Secs'] = res[key]['Secs'].apply(lambda x: round(x, 1))\n",
    "    return res\n",
    "MARKS = ['SL1', 'SL2', 'FL1', 'Fl2', 'M1', 'LG1', 'LG2', 'U1', 'U2']\n"
   ]
  },
  {
   "cell_type": "code",
   "execution_count": null,
   "metadata": {
    "collapsed": true
   },
   "outputs": [],
   "source": [
    "\n",
    "def get_start_time(data):\n",
    "    # returns start time (the gun) in s from midnight\n",
    "    events_frame = data['events']\n",
    "    return events_frame.loc[events_frame['Event'] == 'RaceStarted']['Secs'][0]\n",
    "\n",
    "def get_mark_list(data):\n",
    "    # returns positions of the marks at start time\n",
    "    mark_data = pd.concat([data[m] for m in MARKS])\n",
    "    start_time = get_start_time(data)\n",
    "    return mark_data.loc[abs(mark_data['Secs'] - start_time) < .5]"
   ]
  },
  {
   "cell_type": "code",
   "execution_count": null,
   "metadata": {
    "collapsed": false
   },
   "outputs": [],
   "source": [
    "dat = get_race_data(\"170530\", 1)"
   ]
  },
  {
   "cell_type": "code",
   "execution_count": null,
   "metadata": {
    "collapsed": false
   },
   "outputs": [],
   "source": [
    "t = ColumnDataSource(get_mark_list(dat))"
   ]
  },
  {
   "cell_type": "code",
   "execution_count": null,
   "metadata": {
    "collapsed": false
   },
   "outputs": [],
   "source": [
    "np.linspace(5.0,5.5,retstep=.1)"
   ]
  },
  {
   "cell_type": "code",
   "execution_count": null,
   "metadata": {
    "collapsed": false
   },
   "outputs": [],
   "source": [
    "dat['events'].columns"
   ]
  },
  {
   "cell_type": "code",
   "execution_count": null,
   "metadata": {
    "collapsed": false
   },
   "outputs": [],
   "source": [
    "dat['events'].loc[dat['events']['Event'] == 'RaceStarted']['Secs']"
   ]
  },
  {
   "cell_type": "code",
   "execution_count": null,
   "metadata": {
    "collapsed": false
   },
   "outputs": [],
   "source": [
    "dat['SWE'].loc[dat['SWE']['Secs']  == 50890.2]"
   ]
  },
  {
   "cell_type": "code",
   "execution_count": null,
   "metadata": {
    "collapsed": false
   },
   "outputs": [],
   "source": [
    "pd.concat([dat['SL1'], dat['SL2']])"
   ]
  },
  {
   "cell_type": "code",
   "execution_count": null,
   "metadata": {
    "collapsed": true
   },
   "outputs": [],
   "source": []
  }
 ],
 "metadata": {
  "anaconda-cloud": {},
  "kernelspec": {
   "display_name": "Python [default]",
   "language": "python",
   "name": "python2"
  },
  "language_info": {
   "codemirror_mode": {
    "name": "ipython",
    "version": 2
   },
   "file_extension": ".py",
   "mimetype": "text/x-python",
   "name": "python",
   "nbconvert_exporter": "python",
   "pygments_lexer": "ipython2",
   "version": "2.7.12"
  }
 },
 "nbformat": 4,
 "nbformat_minor": 1
}
