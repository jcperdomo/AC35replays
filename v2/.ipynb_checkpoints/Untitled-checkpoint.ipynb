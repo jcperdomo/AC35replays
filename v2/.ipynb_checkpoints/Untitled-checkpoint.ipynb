{
 "cells": [
  {
   "cell_type": "code",
   "execution_count": 2,
   "metadata": {
    "collapsed": false
   },
   "outputs": [],
   "source": [
    "import data_access\n",
    "from data_access import MARKS\n",
    "import bokeh.models as models\n",
    "import pandas as pd"
   ]
  },
  {
   "cell_type": "code",
   "execution_count": 3,
   "metadata": {
    "collapsed": true
   },
   "outputs": [],
   "source": [
    "data = data_access.get_race_data(\"170530\",1)"
   ]
  },
  {
   "cell_type": "code",
   "execution_count": 4,
   "metadata": {
    "collapsed": false
   },
   "outputs": [
    {
     "data": {
      "text/plain": [
       "['FL1',\n",
       " 'FL2',\n",
       " 'SWE',\n",
       " 'SL1',\n",
       " 'SL2',\n",
       " 'M1',\n",
       " 'WG2',\n",
       " 'LG2',\n",
       " 'WG1',\n",
       " 'LG1',\n",
       " 'events',\n",
       " 'NZL']"
      ]
     },
     "execution_count": 4,
     "metadata": {},
     "output_type": "execute_result"
    }
   ],
   "source": [
    "data.keys()"
   ]
  },
  {
   "cell_type": "code",
   "execution_count": 5,
   "metadata": {
    "collapsed": true
   },
   "outputs": [],
   "source": [
    "def get_start_time(data):\n",
    "    # returns start time (the gun) in s from midnight\n",
    "    events_frame = data['events']\n",
    "    return events_frame.loc[events_frame['Event'] == 'RaceStarted']['Secs'][0]\n",
    "\n",
    "def get_mark_list(data):\n",
    "    # returns positions of the marks at start time\n",
    "    mark_data = pd.concat([data[m] for m in MARKS])\n",
    "    start_time = get_start_time(data)\n",
    "    return mark_data.loc[abs(mark_data['Secs'] - start_time) < .5]"
   ]
  },
  {
   "cell_type": "code",
   "execution_count": 6,
   "metadata": {
    "collapsed": false
   },
   "outputs": [
    {
     "ename": "SyntaxError",
     "evalue": "invalid syntax (<ipython-input-6-be8aa32a1f18>, line 1)",
     "output_type": "error",
     "traceback": [
      "\u001b[0;36m  File \u001b[0;32m\"<ipython-input-6-be8aa32a1f18>\"\u001b[0;36m, line \u001b[0;32m1\u001b[0m\n\u001b[0;31m    marks = get_mark_list(data)[]\u001b[0m\n\u001b[0m                                ^\u001b[0m\n\u001b[0;31mSyntaxError\u001b[0m\u001b[0;31m:\u001b[0m invalid syntax\n"
     ]
    }
   ],
   "source": [
    "marks = get_mark_list(data)[]"
   ]
  },
  {
   "cell_type": "code",
   "execution_count": 7,
   "metadata": {
    "collapsed": false
   },
   "outputs": [
    {
     "ename": "TypeError",
     "evalue": "'generator' object has no attribute '__getitem__'",
     "output_type": "error",
     "traceback": [
      "\u001b[0;31m---------------------------------------------------------------------------\u001b[0m",
      "\u001b[0;31mTypeError\u001b[0m                                 Traceback (most recent call last)",
      "\u001b[0;32m<ipython-input-7-d2d1ed215ff0>\u001b[0m in \u001b[0;36m<module>\u001b[0;34m()\u001b[0m\n\u001b[0;32m----> 1\u001b[0;31m \u001b[0;32mfor\u001b[0m \u001b[0mi\u001b[0m \u001b[0;32min\u001b[0m \u001b[0mdata\u001b[0m\u001b[0;34m[\u001b[0m\u001b[0;34m'NZL'\u001b[0m\u001b[0;34m]\u001b[0m\u001b[0;34m.\u001b[0m\u001b[0miterrows\u001b[0m\u001b[0;34m(\u001b[0m\u001b[0;34m)\u001b[0m\u001b[0;34m[\u001b[0m\u001b[0;34m:\u001b[0m\u001b[0;36m5\u001b[0m\u001b[0;34m]\u001b[0m\u001b[0;34m:\u001b[0m\u001b[0;34m\u001b[0m\u001b[0m\n\u001b[0m\u001b[1;32m      2\u001b[0m     \u001b[0;32mprint\u001b[0m \u001b[0mi\u001b[0m\u001b[0;34m[\u001b[0m\u001b[0;34m'Date'\u001b[0m\u001b[0;34m]\u001b[0m\u001b[0;34m\u001b[0m\u001b[0m\n",
      "\u001b[0;31mTypeError\u001b[0m: 'generator' object has no attribute '__getitem__'"
     ]
    }
   ],
   "source": [
    "for i in data['NZL'].iterrows():\n",
    "    print i['Date']"
   ]
  },
  {
   "cell_type": "code",
   "execution_count": 14,
   "metadata": {
    "collapsed": false
   },
   "outputs": [
    {
     "data": {
      "text/plain": [
       "array([0, 0])"
      ]
     },
     "execution_count": 14,
     "metadata": {},
     "output_type": "execute_result"
    }
   ],
   "source": [
    "import numpy as np\n",
    "np.array([range(3) for i in range(2)]).transpose()[0]"
   ]
  },
  {
   "cell_type": "code",
   "execution_count": 8,
   "metadata": {
    "collapsed": false
   },
   "outputs": [
    {
     "data": {
      "text/plain": [
       "Index([u'Boat', u'Date', u'Secs', u'LocalTime', u'Zone', u'Lat', u'Lon',\n",
       "       u'Hdg', u'Heel', u'Pitch', u'COG', u'SOG', u'CourseWindDirection',\n",
       "       u'CourseWindSpeed', u'yHdg', u'ySpeed', u'yTWS', u'yTWD', u'yAWS',\n",
       "       u'yAWA', u'yTWA', u'ySOG', u'yCOG', u'yRudder'],\n",
       "      dtype='object')"
      ]
     },
     "execution_count": 8,
     "metadata": {},
     "output_type": "execute_result"
    }
   ],
   "source": [
    "marks.columns"
   ]
  },
  {
   "cell_type": "code",
   "execution_count": 11,
   "metadata": {
    "collapsed": false
   },
   "outputs": [
    {
     "data": {
      "text/plain": [
       "581    306.1\n",
       "580    306.1\n",
       "573    306.1\n",
       "567    306.1\n",
       "544    306.1\n",
       "576    306.1\n",
       "543    306.1\n",
       "577    306.1\n",
       "580    306.1\n",
       "Name: CourseWindDirection, dtype: float64"
      ]
     },
     "execution_count": 11,
     "metadata": {},
     "output_type": "execute_result"
    }
   ],
   "source": [
    "marks[\"CourseWindDirection\"]"
   ]
  },
  {
   "cell_type": "code",
   "execution_count": 5,
   "metadata": {
    "collapsed": false
   },
   "outputs": [
    {
     "data": {
      "text/html": [
       "<div>\n",
       "<table border=\"1\" class=\"dataframe\">\n",
       "  <thead>\n",
       "    <tr style=\"text-align: right;\">\n",
       "      <th></th>\n",
       "      <th>Boat</th>\n",
       "      <th>Date</th>\n",
       "      <th>Secs</th>\n",
       "      <th>LocalTime</th>\n",
       "      <th>Zone</th>\n",
       "      <th>Lat</th>\n",
       "      <th>Lon</th>\n",
       "      <th>Hdg</th>\n",
       "      <th>Heel</th>\n",
       "      <th>Pitch</th>\n",
       "      <th>...</th>\n",
       "      <th>yHdg</th>\n",
       "      <th>ySpeed</th>\n",
       "      <th>yTWS</th>\n",
       "      <th>yTWD</th>\n",
       "      <th>yAWS</th>\n",
       "      <th>yAWA</th>\n",
       "      <th>yTWA</th>\n",
       "      <th>ySOG</th>\n",
       "      <th>yCOG</th>\n",
       "      <th>yRudder</th>\n",
       "    </tr>\n",
       "  </thead>\n",
       "  <tbody>\n",
       "    <tr>\n",
       "      <th>0</th>\n",
       "      <td>SL1</td>\n",
       "      <td>30:05:2017</td>\n",
       "      <td>50588.0</td>\n",
       "      <td>14:03:08.000</td>\n",
       "      <td>-3</td>\n",
       "      <td>32.309573</td>\n",
       "      <td>-64.839937</td>\n",
       "      <td>273.9</td>\n",
       "      <td>0.0</td>\n",
       "      <td>0.0</td>\n",
       "      <td>...</td>\n",
       "      <td>0.0</td>\n",
       "      <td>1.1</td>\n",
       "      <td>8.8</td>\n",
       "      <td>299.3</td>\n",
       "      <td>7.7</td>\n",
       "      <td>29.0</td>\n",
       "      <td>8.5</td>\n",
       "      <td>0.0</td>\n",
       "      <td>0.0</td>\n",
       "      <td>0.0</td>\n",
       "    </tr>\n",
       "    <tr>\n",
       "      <th>1</th>\n",
       "      <td>SL1</td>\n",
       "      <td>30:05:2017</td>\n",
       "      <td>50588.5</td>\n",
       "      <td>14:03:08.500</td>\n",
       "      <td>-3</td>\n",
       "      <td>32.309572</td>\n",
       "      <td>-64.839939</td>\n",
       "      <td>273.6</td>\n",
       "      <td>0.0</td>\n",
       "      <td>0.0</td>\n",
       "      <td>...</td>\n",
       "      <td>0.0</td>\n",
       "      <td>1.9</td>\n",
       "      <td>8.8</td>\n",
       "      <td>299.3</td>\n",
       "      <td>7.7</td>\n",
       "      <td>29.0</td>\n",
       "      <td>8.5</td>\n",
       "      <td>0.0</td>\n",
       "      <td>0.0</td>\n",
       "      <td>0.0</td>\n",
       "    </tr>\n",
       "    <tr>\n",
       "      <th>2</th>\n",
       "      <td>SL1</td>\n",
       "      <td>30:05:2017</td>\n",
       "      <td>50589.0</td>\n",
       "      <td>14:03:09.000</td>\n",
       "      <td>-3</td>\n",
       "      <td>32.309566</td>\n",
       "      <td>-64.839939</td>\n",
       "      <td>272.9</td>\n",
       "      <td>0.0</td>\n",
       "      <td>0.0</td>\n",
       "      <td>...</td>\n",
       "      <td>0.0</td>\n",
       "      <td>2.7</td>\n",
       "      <td>8.7</td>\n",
       "      <td>298.6</td>\n",
       "      <td>9.6</td>\n",
       "      <td>28.0</td>\n",
       "      <td>9.9</td>\n",
       "      <td>0.0</td>\n",
       "      <td>0.0</td>\n",
       "      <td>0.0</td>\n",
       "    </tr>\n",
       "    <tr>\n",
       "      <th>3</th>\n",
       "      <td>SL1</td>\n",
       "      <td>30:05:2017</td>\n",
       "      <td>50589.5</td>\n",
       "      <td>14:03:09.500</td>\n",
       "      <td>-3</td>\n",
       "      <td>32.309570</td>\n",
       "      <td>-64.839938</td>\n",
       "      <td>272.2</td>\n",
       "      <td>0.0</td>\n",
       "      <td>0.0</td>\n",
       "      <td>...</td>\n",
       "      <td>0.0</td>\n",
       "      <td>0.9</td>\n",
       "      <td>8.7</td>\n",
       "      <td>298.6</td>\n",
       "      <td>9.6</td>\n",
       "      <td>28.0</td>\n",
       "      <td>9.9</td>\n",
       "      <td>0.0</td>\n",
       "      <td>0.0</td>\n",
       "      <td>0.0</td>\n",
       "    </tr>\n",
       "    <tr>\n",
       "      <th>4</th>\n",
       "      <td>SL1</td>\n",
       "      <td>30:05:2017</td>\n",
       "      <td>50590.0</td>\n",
       "      <td>14:03:10.000</td>\n",
       "      <td>-3</td>\n",
       "      <td>32.309572</td>\n",
       "      <td>-64.839938</td>\n",
       "      <td>271.0</td>\n",
       "      <td>0.0</td>\n",
       "      <td>0.0</td>\n",
       "      <td>...</td>\n",
       "      <td>0.0</td>\n",
       "      <td>2.4</td>\n",
       "      <td>8.7</td>\n",
       "      <td>298.3</td>\n",
       "      <td>7.9</td>\n",
       "      <td>25.0</td>\n",
       "      <td>11.7</td>\n",
       "      <td>0.0</td>\n",
       "      <td>0.0</td>\n",
       "      <td>0.0</td>\n",
       "    </tr>\n",
       "  </tbody>\n",
       "</table>\n",
       "<p>5 rows × 24 columns</p>\n",
       "</div>"
      ],
      "text/plain": [
       "  Boat        Date     Secs     LocalTime  Zone        Lat        Lon    Hdg  \\\n",
       "0  SL1  30:05:2017  50588.0  14:03:08.000    -3  32.309573 -64.839937  273.9   \n",
       "1  SL1  30:05:2017  50588.5  14:03:08.500    -3  32.309572 -64.839939  273.6   \n",
       "2  SL1  30:05:2017  50589.0  14:03:09.000    -3  32.309566 -64.839939  272.9   \n",
       "3  SL1  30:05:2017  50589.5  14:03:09.500    -3  32.309570 -64.839938  272.2   \n",
       "4  SL1  30:05:2017  50590.0  14:03:10.000    -3  32.309572 -64.839938  271.0   \n",
       "\n",
       "   Heel  Pitch   ...     yHdg  ySpeed  yTWS   yTWD  yAWS  yAWA  yTWA  ySOG  \\\n",
       "0   0.0    0.0   ...      0.0     1.1   8.8  299.3   7.7  29.0   8.5   0.0   \n",
       "1   0.0    0.0   ...      0.0     1.9   8.8  299.3   7.7  29.0   8.5   0.0   \n",
       "2   0.0    0.0   ...      0.0     2.7   8.7  298.6   9.6  28.0   9.9   0.0   \n",
       "3   0.0    0.0   ...      0.0     0.9   8.7  298.6   9.6  28.0   9.9   0.0   \n",
       "4   0.0    0.0   ...      0.0     2.4   8.7  298.3   7.9  25.0  11.7   0.0   \n",
       "\n",
       "   yCOG  yRudder  \n",
       "0   0.0      0.0  \n",
       "1   0.0      0.0  \n",
       "2   0.0      0.0  \n",
       "3   0.0      0.0  \n",
       "4   0.0      0.0  \n",
       "\n",
       "[5 rows x 24 columns]"
      ]
     },
     "execution_count": 5,
     "metadata": {},
     "output_type": "execute_result"
    }
   ],
   "source": [
    "['SL1'].head()"
   ]
  },
  {
   "cell_type": "code",
   "execution_count": 9,
   "metadata": {
    "collapsed": false
   },
   "outputs": [
    {
     "data": {
      "text/plain": [
       "Boat                            WG1\n",
       "Date                     30:05:2017\n",
       "Secs                          50588\n",
       "LocalTime              14:03:08.000\n",
       "Zone                             -3\n",
       "Lat                         32.3059\n",
       "Lon                         -64.847\n",
       "Hdg                             266\n",
       "Heel                              0\n",
       "Pitch                             0\n",
       "COG                           275.5\n",
       "SOG                            1.38\n",
       "CourseWindDirection           302.6\n",
       "CourseWindSpeed                10.5\n",
       "yHdg                              0\n",
       "ySpeed                          1.4\n",
       "yTWS                           11.8\n",
       "yTWD                          303.3\n",
       "yAWS                            9.7\n",
       "yAWA                             38\n",
       "yTWA                           33.6\n",
       "ySOG                              0\n",
       "yCOG                              0\n",
       "yRudder                           0\n",
       "Name: 0, dtype: object"
      ]
     },
     "execution_count": 9,
     "metadata": {},
     "output_type": "execute_result"
    }
   ],
   "source": [
    "data['WG1'].iloc[0]"
   ]
  },
  {
   "cell_type": "code",
   "execution_count": null,
   "metadata": {
    "collapsed": false
   },
   "outputs": [],
   "source": [
    "source = models.ColumnDataSource(get_mark_list(data))\n"
   ]
  },
  {
   "cell_type": "code",
   "execution_count": null,
   "metadata": {
    "collapsed": false
   },
   "outputs": [],
   "source": [
    "source.column_names"
   ]
  },
  {
   "cell_type": "code",
   "execution_count": null,
   "metadata": {
    "collapsed": true
   },
   "outputs": [],
   "source": [
    "boatWidth = 8.47\n",
    "boatLength = 15.00\n",
    "bowWidth = 1.0\n",
    "trampOffset = 3.0\n",
    "bowTip = .2\n",
    "\n",
    "\n",
    "sr = [boatWidth / 2.0, 0.0]\n",
    "sl = [-boatWidth / 2.0, 0.0]\n",
    "brr = [boatWidth / 2.0, boatLength]\n",
    "bru = [boatWidth / 2.0 - bowWidth / 2.0, boatLength + bowTip]\n",
    "brl = [boatWidth / 2.0 - bowWidth, boatLength]\n",
    "trampr = [boatWidth / 2.0 - bowWidth, boatLength - tramp_offset]\n",
    "trampl = [-(boatWidth / 2.0 - bowWidth), boatLength - tramp_offset]\n",
    "bll = [-boatWidth / 2.0, boatLength]\n",
    "blu = [-(boatWidth / 2.0 - bowWidth / 2.0), boatLength + bowTip]\n",
    "blr = [-(boatWidth / 2.0 - bowWidth), boatLength]"
   ]
  },
  {
   "cell_type": "code",
   "execution_count": null,
   "metadata": {
    "collapsed": true
   },
   "outputs": [],
   "source": [
    "boatWidth = 0.000076\n",
    "boatLength = 0.000136\n",
    "bowWidth = 0.000009\n",
    "trampOffset = 0.000027\n",
    "bowTip = 0.000002\n",
    "\n",
    "\n",
    "sr = [boatWidth / 2.0, 0.0]\n",
    "sl = [-boatWidth / 2.0, 0.0]\n",
    "brr = [boatWidth / 2.0, boatLength]\n",
    "bru = [boatWidth / 2.0 - bowWidth / 2.0, boatLength + bowTip]\n",
    "brl = [boatWidth / 2.0 - bowWidth, boatLength]\n",
    "trampr = [boatWidth / 2.0 - bowWidth, boatLength - tramp_offset]\n",
    "trampl = [-(boatWidth / 2.0 - bowWidth), boatLength - tramp_offset]\n",
    "bll = [-boatWidth / 2.0, boatLength]\n",
    "blu = [-(boatWidth / 2.0 - bowWidth / 2.0), boatLength + bowTip]\n",
    "blr = [-(boatWidth / 2.0 - bowWidth), boatLength]"
   ]
  }
 ],
 "metadata": {
  "anaconda-cloud": {},
  "kernelspec": {
   "display_name": "Python [default]",
   "language": "python",
   "name": "python2"
  },
  "language_info": {
   "codemirror_mode": {
    "name": "ipython",
    "version": 2
   },
   "file_extension": ".py",
   "mimetype": "text/x-python",
   "name": "python",
   "nbconvert_exporter": "python",
   "pygments_lexer": "ipython2",
   "version": "2.7.12"
  }
 },
 "nbformat": 4,
 "nbformat_minor": 1
}
